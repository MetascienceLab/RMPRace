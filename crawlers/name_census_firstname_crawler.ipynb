{
 "cells": [
  {
   "cell_type": "code",
   "execution_count": 5,
   "metadata": {},
   "outputs": [
    {
     "name": "stdout",
     "output_type": "stream",
     "text": [
      "Saved Asian_First_Name.csv\n",
      "Saved Black_First_Name.csv\n",
      "Saved Hispanic_First_Name.csv\n",
      "Saved White_First_Name.csv\n"
     ]
    }
   ],
   "source": [
    "import pandas as pd\n",
    "\n",
    "# Load your CSV dataset into a DataFrame\n",
    "df = pd.read_csv('/Users/eurysohn/Desktop/RA codes/Name Census/First_Names/Popular_Baby_Names.csv')\n",
    "\n",
    "# Create a mapping to group ethnicities\n",
    "ethnicity_mapping = {\n",
    "    'ASIAN AND PACI': 'Asian_First_Name',\n",
    "\n",
    "    'ASIAN AND PACIFIC ISLANDER': 'Asian_First_Name',\n",
    "    'BLACK NON HISP': 'Black_First_Name',\n",
    "    'BLACK NON HISPANIC': 'Black_First_Name',\n",
    "    'HISPANIC': 'Hispanic_First_Name',\n",
    "    'WHITE NON HISP': 'White_First_Name',\n",
    "    'WHITE NON HISPANIC': 'White_First_Name'\n",
    "}\n",
    "\n",
    "# Apply the mapping to create a new 'Grouped Ethnicity' column\n",
    "df['Grouped Ethnicity'] = df['Ethnicity'].map(ethnicity_mapping)\n",
    "\n",
    "# Group the data by 'Grouped Ethnicity' and aggregate the 'Child's First Name' column\n",
    "grouped = df.groupby('Grouped Ethnicity')['Child\\'s First Name'].apply(list).reset_index()\n",
    "\n",
    "# Iterate through the grouped data and create separate CSV files for each ethnicity group\n",
    "for index, row in grouped.iterrows():\n",
    "    ethnicity_group = row['Grouped Ethnicity']\n",
    "    first_names = row[\"Child's First Name\"]\n",
    "    \n",
    "    # Create a DataFrame for the current ethnicity group\n",
    "    ethnicity_group_df = pd.DataFrame({'First Name': first_names})\n",
    "    \n",
    "    # Save the DataFrame as a CSV file\n",
    "    file_name = f'{ethnicity_group}.csv'\n",
    "    ethnicity_group_df.to_csv(file_name, index=False)\n",
    "    print(f'Saved {file_name}')\n"
   ]
  },
  {
   "cell_type": "code",
   "execution_count": 6,
   "metadata": {},
   "outputs": [
    {
     "name": "stdout",
     "output_type": "stream",
     "text": [
      "Saved Asian_First_Name.csv\n",
      "Saved Black_First_Name.csv\n",
      "Saved Hispanic_First_Name.csv\n",
      "Saved White_First_Name.csv\n"
     ]
    }
   ],
   "source": [
    "import pandas as pd\n",
    "\n",
    "# Load your CSV dataset into a DataFrame\n",
    "df = pd.read_csv('/Users/eurysohn/Desktop/RA codes/Name Census/First_Names/Popular_Baby_Names.csv')\n",
    "\n",
    "# Create a mapping to group ethnicities\n",
    "ethnicity_mapping = {\n",
    "    'ASIAN AND PACI': 'Asian_First_Name',\n",
    "    'ASIAN AND PACIFIC ISLANDER': 'Asian_First_Name',\n",
    "    'BLACK NON HISP': 'Black_First_Name',\n",
    "    'BLACK NON HISPANIC': 'Black_First_Name',\n",
    "    'HISPANIC': 'Hispanic_First_Name',\n",
    "    'WHITE NON HISP': 'White_First_Name',\n",
    "    'WHITE NON HISPANIC': 'White_First_Name'\n",
    "}\n",
    "\n",
    "# Apply the mapping to create a new 'Grouped Ethnicity' column\n",
    "df['Grouped Ethnicity'] = df['Ethnicity'].map(ethnicity_mapping)\n",
    "\n",
    "# Create a dictionary to map 'Grouped Ethnicity' to 'Ethnicity'\n",
    "ethnicity_dict = {\n",
    "    'Asian_First_Name': 'asian',\n",
    "    'Black_First_Name': 'black',\n",
    "    'Hispanic_First_Name': 'hispanic',\n",
    "    'White_First_Name': 'white'\n",
    "}\n",
    "\n",
    "# Apply the mapping to create a new 'Ethnicity' column\n",
    "df['Ethnicity'] = df['Grouped Ethnicity'].map(ethnicity_dict)\n",
    "\n",
    "# Group the data by 'Grouped Ethnicity' and aggregate the 'Child's First Name' column\n",
    "grouped = df.groupby('Grouped Ethnicity')['Child\\'s First Name'].apply(list).reset_index()\n",
    "\n",
    "# Iterate through the grouped data and create separate CSV files for each ethnicity group\n",
    "for index, row in grouped.iterrows():\n",
    "    ethnicity_group = row['Grouped Ethnicity']\n",
    "    first_names = row[\"Child's First Name\"]\n",
    "    \n",
    "    # Create a DataFrame for the current ethnicity group\n",
    "    ethnicity_group_df = pd.DataFrame({'First Name': first_names, 'Ethnicity': ethnicity_dict[ethnicity_group]})\n",
    "    \n",
    "    # Save the DataFrame as a CSV file\n",
    "    file_name = f'{ethnicity_group}.csv'\n",
    "    ethnicity_group_df.to_csv(file_name, index=False)\n",
    "    print(f'Saved {file_name}')\n"
   ]
  },
  {
   "cell_type": "code",
   "execution_count": null,
   "metadata": {},
   "outputs": [],
   "source": []
  }
 ],
 "metadata": {
  "kernelspec": {
   "display_name": "Python 3",
   "language": "python",
   "name": "python3"
  },
  "language_info": {
   "codemirror_mode": {
    "name": "ipython",
    "version": 3
   },
   "file_extension": ".py",
   "mimetype": "text/x-python",
   "name": "python",
   "nbconvert_exporter": "python",
   "pygments_lexer": "ipython3",
   "version": "3.10.4"
  },
  "orig_nbformat": 4
 },
 "nbformat": 4,
 "nbformat_minor": 2
}
