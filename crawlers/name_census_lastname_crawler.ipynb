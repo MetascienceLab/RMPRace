{
 "cells": [
  {
   "attachments": {},
   "cell_type": "markdown",
   "metadata": {},
   "source": [
    "# asian"
   ]
  },
  {
   "cell_type": "code",
   "execution_count": 22,
   "metadata": {},
   "outputs": [
    {
     "name": "stdout",
     "output_type": "stream",
     "text": [
      "CSV created successfully!\n"
     ]
    }
   ],
   "source": [
    "import requests\n",
    "from bs4 import BeautifulSoup\n",
    "import pandas as pd\n",
    "\n",
    "def extract_last_names(url):\n",
    "    # Request the website's content\n",
    "    response = requests.get(url)\n",
    "    soup = BeautifulSoup(response.content, 'html.parser')\n",
    "\n",
    "    # Find the table containing the surnames\n",
    "    table = soup.find('table')\n",
    "\n",
    "    # Extract data for \"Last Name/Surname\"\n",
    "    last_names = []\n",
    "    for row in table.findAll('tr')[1:]:  # [1:] is used to skip the header row\n",
    "        columns = row.findAll('td')\n",
    "        last_name = columns[0].text\n",
    "        last_names.append(last_name)\n",
    "\n",
    "    return last_names\n",
    "\n",
    "# URLs to extract data from\n",
    "urls = [\n",
    "    'https://namecensus.com/last-names/common-asian-and-pacific-islander-surnames/',\n",
    "    'https://namecensus.com/last-names/common-asian-and-pacific-islander-surnames/?start=2000'\n",
    "]\n",
    "\n",
    "# Extract data and create a DataFrame\n",
    "all_last_names = []\n",
    "for url in urls:\n",
    "    all_last_names.extend(extract_last_names(url))\n",
    "\n",
    "ethnicity_values = ['asian'] * len(all_last_names)\n",
    "df = pd.DataFrame({\n",
    "    'Last Name': all_last_names,\n",
    "    'Ethnicity': ethnicity_values\n",
    "})\n",
    "\n",
    "# Save to CSV\n",
    "df.to_csv('Asian_Last_Name.csv', index=False)\n",
    "\n",
    "print(\"CSV created successfully!\")\n"
   ]
  },
  {
   "cell_type": "markdown",
   "metadata": {},
   "source": [
    "# Black"
   ]
  },
  {
   "cell_type": "code",
   "execution_count": 23,
   "metadata": {},
   "outputs": [
    {
     "name": "stdout",
     "output_type": "stream",
     "text": [
      "CSV created successfully!\n"
     ]
    }
   ],
   "source": [
    "import requests\n",
    "from bs4 import BeautifulSoup\n",
    "import pandas as pd\n",
    "\n",
    "def extract_last_names(url):\n",
    "    # Request the website's content\n",
    "    response = requests.get(url)\n",
    "    soup = BeautifulSoup(response.content, 'html.parser')\n",
    "\n",
    "    # Find the table containing the surnames\n",
    "    table = soup.find('table')\n",
    "\n",
    "    # Extract data for \"Last Name/Surname\"\n",
    "    last_names = []\n",
    "    for row in table.findAll('tr')[1:]:  # [1:] is used to skip the header row\n",
    "        columns = row.findAll('td')\n",
    "        last_name = columns[0].text\n",
    "        last_names.append(last_name)\n",
    "\n",
    "    return last_names\n",
    "\n",
    "# URLs to extract data from\n",
    "urls = [\n",
    "    'https://namecensus.com/last-names/common-black-surnames/',\n",
    "    'https://namecensus.com/last-names/common-black-surnames/?start=2000'\n",
    "]\n",
    "\n",
    "# Extract data and create a DataFrame\n",
    "all_last_names = []\n",
    "for url in urls:\n",
    "    all_last_names.extend(extract_last_names(url))\n",
    "\n",
    "\n",
    "ethnicity_values = ['black'] * len(all_last_names)\n",
    "df = pd.DataFrame({\n",
    "    'Last Name': all_last_names,\n",
    "    'Ethnicity': ethnicity_values\n",
    "})\n",
    "\n",
    "\n",
    "# Save to CSV\n",
    "df.to_csv('Black_Last_Name.csv', index=False)\n",
    "\n",
    "print(\"CSV created successfully!\")\n"
   ]
  },
  {
   "cell_type": "markdown",
   "metadata": {},
   "source": [
    "# Hispanic"
   ]
  },
  {
   "cell_type": "code",
   "execution_count": 24,
   "metadata": {},
   "outputs": [
    {
     "name": "stdout",
     "output_type": "stream",
     "text": [
      "CSV created successfully!\n"
     ]
    }
   ],
   "source": [
    "import requests\n",
    "from bs4 import BeautifulSoup\n",
    "import pandas as pd\n",
    "\n",
    "def extract_last_names(url):\n",
    "    # Request the website's content\n",
    "    response = requests.get(url)\n",
    "    soup = BeautifulSoup(response.content, 'html.parser')\n",
    "\n",
    "    # Find the table containing the surnames\n",
    "    table = soup.find('table')\n",
    "\n",
    "    # Extract data for \"Last Name/Surname\"\n",
    "    last_names = []\n",
    "    for row in table.findAll('tr')[1:]:  # [1:] is used to skip the header row\n",
    "        columns = row.findAll('td')\n",
    "        last_name = columns[0].text\n",
    "        last_names.append(last_name)\n",
    "\n",
    "    return last_names\n",
    "\n",
    "# URLs to extract data from\n",
    "urls = [\n",
    "    'https://namecensus.com/last-names/common-hispanic-surnames/',\n",
    "    'https://namecensus.com/last-names/common-hispanic-surnames/?start=2000'\n",
    "]\n",
    "\n",
    "# Extract data and create a DataFrame\n",
    "all_last_names = []\n",
    "for url in urls:\n",
    "    all_last_names.extend(extract_last_names(url))\n",
    "\n",
    "\n",
    "ethnicity_values = ['hispanic'] * len(all_last_names)\n",
    "df = pd.DataFrame({\n",
    "    'Last Name': all_last_names,\n",
    "    'Ethnicity': ethnicity_values\n",
    "})\n",
    "\n",
    "\n",
    "# Save to CSV\n",
    "df.to_csv('Hispanic_Last_Name.csv', index=False)\n",
    "\n",
    "print(\"CSV created successfully!\")\n"
   ]
  },
  {
   "cell_type": "markdown",
   "metadata": {},
   "source": [
    "# White"
   ]
  },
  {
   "cell_type": "code",
   "execution_count": 25,
   "metadata": {},
   "outputs": [
    {
     "name": "stdout",
     "output_type": "stream",
     "text": [
      "CSV created successfully!\n"
     ]
    }
   ],
   "source": [
    "import requests\n",
    "from bs4 import BeautifulSoup\n",
    "import pandas as pd\n",
    "\n",
    "def extract_last_names(url):\n",
    "    # Request the website's content\n",
    "    response = requests.get(url)\n",
    "    soup = BeautifulSoup(response.content, 'html.parser')\n",
    "\n",
    "    # Find the table containing the surnames\n",
    "    table = soup.find('table')\n",
    "\n",
    "    # Extract data for \"Last Name/Surname\"\n",
    "    last_names = []\n",
    "    for row in table.findAll('tr')[1:]:  # [1:] is used to skip the header row\n",
    "        columns = row.findAll('td')\n",
    "        last_name = columns[0].text\n",
    "        last_names.append(last_name)\n",
    "\n",
    "    return last_names\n",
    "\n",
    "# URLs to extract data from\n",
    "urls = [\n",
    "    'https://namecensus.com/last-names/common-white-surnames/',\n",
    "    'https://namecensus.com/last-names/common-white-surnames/?start=2000'\n",
    "]\n",
    "\n",
    "# Extract data and create a DataFrame\n",
    "all_last_names = []\n",
    "for url in urls:\n",
    "    all_last_names.extend(extract_last_names(url))\n",
    "\n",
    "ethnicity_values = ['white'] * len(all_last_names)\n",
    "df = pd.DataFrame({\n",
    "    'Last Name': all_last_names,\n",
    "    'Ethnicity': ethnicity_values\n",
    "})\n",
    "\n",
    "# Save to CSV\n",
    "df.to_csv('White_Last_Name.csv', index=False)\n",
    "\n",
    "print(\"CSV created successfully!\")\n"
   ]
  },
  {
   "cell_type": "code",
   "execution_count": null,
   "metadata": {},
   "outputs": [],
   "source": []
  },
  {
   "cell_type": "code",
   "execution_count": null,
   "metadata": {},
   "outputs": [],
   "source": []
  }
 ],
 "metadata": {
  "kernelspec": {
   "display_name": "Python 3",
   "language": "python",
   "name": "python3"
  },
  "language_info": {
   "codemirror_mode": {
    "name": "ipython",
    "version": 3
   },
   "file_extension": ".py",
   "mimetype": "text/x-python",
   "name": "python",
   "nbconvert_exporter": "python",
   "pygments_lexer": "ipython3",
   "version": "3.10.4"
  },
  "orig_nbformat": 4
 },
 "nbformat": 4,
 "nbformat_minor": 2
}
